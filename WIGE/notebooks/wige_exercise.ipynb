{
 "cells": [
  {
   "cell_type": "markdown",
   "metadata": {},
   "source": [
    "# Introduction to python for Geology\n"
   ]
  },
  {
   "cell_type": "markdown",
   "metadata": {},
   "source": [
    "## Exercise 1: \n",
    "`Mineral Identification`\n",
    "\n",
    "Create a program that asks the user for the hardness of a mineral and identifies it based on the given hardness values."
   ]
  },
  {
   "cell_type": "markdown",
   "metadata": {},
   "source": [
    "![](../image/Mohs_Scale1.jpg)"
   ]
  },
  {
   "cell_type": "code",
   "execution_count": null,
   "metadata": {},
   "outputs": [],
   "source": []
  },
  {
   "cell_type": "markdown",
   "metadata": {},
   "source": [
    "## Exercise 2\n",
    "Get the hardness of Diamond from `mohs_hardness`"
   ]
  },
  {
   "cell_type": "code",
   "execution_count": 6,
   "metadata": {},
   "outputs": [],
   "source": [
    "mohs_hardness = {\n",
    "    \"Talc\": 1,\n",
    "    \"Gypsum\": 2,\n",
    "    \"Calcite\": 3,\n",
    "    \"Fluorite\": 4,\n",
    "    \"Apatite\": 5,\n",
    "    \"Orthoclase\": 6,\n",
    "    \"Quartz\": 7,\n",
    "    \"Topaz\": 8,\n",
    "    \"Corundum\": 9,\n",
    "    \"Diamond\": 10\n",
    "}\n"
   ]
  },
  {
   "cell_type": "code",
   "execution_count": 1,
   "metadata": {},
   "outputs": [],
   "source": [
    "# write your code here\n",
    "\n"
   ]
  },
  {
   "cell_type": "markdown",
   "metadata": {},
   "source": [
    "## Exercise 3\n",
    "Calculate Pressure below seawater\n",
    "\n",
    "Create a function calculates the pressure at a depth `d` below seawater.\n",
    "\n",
    "$pressure (N/m^2)= ρgh$  #pascals\n",
    "\n",
    "*Hint*:\n",
    "density of seawater is $1024 kg/m^3$\n",
    "acceleartion due to gravity = $10m/s^2$"
   ]
  },
  {
   "cell_type": "code",
   "execution_count": null,
   "metadata": {},
   "outputs": [],
   "source": [
    "# write code here"
   ]
  },
  {
   "cell_type": "markdown",
   "metadata": {},
   "source": [
    "## Exercise 4\n",
    "write a program that asks user to eneter a temp and check if the temp is high low or medium\n",
    "\n",
    "low if temp less than 25, medium between 25 & 55\n",
    "high > 55"
   ]
  },
  {
   "cell_type": "code",
   "execution_count": null,
   "metadata": {},
   "outputs": [],
   "source": [
    "# write code here"
   ]
  },
  {
   "cell_type": "markdown",
   "metadata": {},
   "source": [
    "## Exercise 5\n",
    "Write program that convert all temp from 0 to 20 to c to kelvin\n",
    "\n",
    "`hint: use for or while loop`"
   ]
  },
  {
   "cell_type": "code",
   "execution_count": null,
   "metadata": {},
   "outputs": [],
   "source": [
    "# write code here"
   ]
  },
  {
   "cell_type": "markdown",
   "metadata": {},
   "source": [
    "## Exercise 6\n",
    "`Analysing data from text file`\n",
    "\n",
    "Create a program to analyze survey data from a text file. The data includes rock type and sample location. The program should count occurrences of each rock type."
   ]
  },
  {
   "cell_type": "code",
   "execution_count": null,
   "metadata": {},
   "outputs": [],
   "source": [
    "# write code here"
   ]
  }
 ],
 "metadata": {
  "kernelspec": {
   "display_name": "python12",
   "language": "python",
   "name": "python3"
  },
  "language_info": {
   "codemirror_mode": {
    "name": "ipython",
    "version": 3
   },
   "file_extension": ".py",
   "mimetype": "text/x-python",
   "name": "python",
   "nbconvert_exporter": "python",
   "pygments_lexer": "ipython3",
   "version": "3.12.2"
  }
 },
 "nbformat": 4,
 "nbformat_minor": 2
}
