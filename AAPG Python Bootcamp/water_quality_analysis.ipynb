{
 "cells": [
  {
   "cell_type": "markdown",
   "metadata": {},
   "source": [
    "# **AAPG WEEK 5**\n",
    "\n",
    "**PROJECT 1 : WATER QUALITY**\n",
    "\n",
    "**Facilitators:**\n",
    "1. Giles Twiss\n",
    "2. Promise Ekeh\n",
    "\n",
    "\n"
   ]
  },
  {
   "cell_type": "markdown",
   "metadata": {},
   "source": [
    "## Data Description and Task Overview\n",
    "\n",
    "### Data Description\n",
    "\n",
    "This dataset contains measurements of various water quality parameters collected from different water sources over time. Below is a detailed description of each column in the dataset:\n",
    "\n",
    "1. **Index**: Unique identifier for each data entry.\n",
    "2. **pH**: The pH level of the water, indicating its acidity or alkalinity.\n",
    "3. **Iron**: Concentration of iron in the water (in mg/L).\n",
    "4. **Nitrate**: Concentration of nitrate in the water (in mg/L).\n",
    "5. **Chloride**: Concentration of chloride in the water (in mg/L).\n",
    "6. **Lead**: Concentration of lead in the water (in mg/L).\n",
    "7. **Zinc**: Concentration of zinc in the water (in mg/L).\n",
    "8. **Color**: The color of the water sample (e.g., Colorless, Faint Yellow).\n",
    "9. **Turbidity**: The cloudiness or haziness of the water, measured in Nephelometric Turbidity Units (NTU).\n",
    "10. **Fluoride**: Concentration of fluoride in the water (in mg/L).\n",
    "11. **Copper**: Concentration of copper in the water (in mg/L).\n",
    "12. **Odor**: Descriptive term for the odor of the water (e.g., odorless, faint odor).\n",
    "13. **Sulfate**: Concentration of sulfate in the water (in mg/L).\n",
    "14. **Conductivity**: The ability of the water to conduct electricity, measured in microsiemens per centimeter (µS/cm).\n",
    "15. **Chlorine**: Concentration of chlorine in the water (in mg/L).\n",
    "16. **Manganese**: Concentration of manganese in the water (in mg/L).\n",
    "17. **Total Dissolved Solids (TDS)**: Total concentration of dissolved substances in the water (in mg/L).\n",
    "18. **Source**: Source of the water sample (e.g., Lake, River, Ground).\n",
    "19. **Water Temperature**: Temperature of the water at the time of measurement (in °C).\n",
    "20. **Air Temperature**: Temperature of the air at the time of measurement (in °C).\n",
    "21. **Month**: Month when the sample was taken.\n",
    "22. **Day**: Day of the month when the sample was taken.\n",
    "23. **Time of Day**: Time of day when the sample was taken (e.g., 0 for midnight, 12 for noon).\n",
    "24. **Target**: Binary target variable indicating whether the water quality meets a certain standard (0 for meets standard, 1 for does not meet standard).\n"
   ]
  },
  {
   "cell_type": "markdown",
   "metadata": {},
   "source": [
    "\n",
    "### Task for Participants\n",
    "\n",
    "Participants are tasked with analyzing the water quality data to determine patterns, correlations, and insights that can help in understanding and managing water quality. Specific tasks include:\n",
    "\n",
    "1. **Data Cleaning and Preprocessing**:\n",
    "    - Handle missing or inconsistent data.\n",
    "    - Convert categorical data into numerical format if necessary.\n",
    "    - Normalize or standardize numerical features.\n",
    "\n",
    "2. **Exploratory Data Analysis (EDA)**:\n",
    "    - Generate summary statistics for each feature.\n",
    "    - Visualize data distributions and relationships between variables using plots (e.g., histograms, scatter plots, box plots).\n",
    "    - Identify any trends or anomalies in the data.\n",
    "\n",
    "3. **Feature Engineering**:\n",
    "    - Create new features that might be useful for prediction, such as interaction terms or aggregates.\n",
    "    - Evaluate the importance of different features for predicting water quality.\n",
    "\n",
    "4. **Model Building**:\n",
    "    - Split the data into training and testing sets.\n",
    "    - Train machine learning models to predict the target variable (water quality standard).\n",
    "    - Evaluate model performance using appropriate metrics (e.g., accuracy, precision, recall, F1-score).\n",
    "\n",
    "5. **Model Interpretation and Insights**:\n",
    "    - Interpret the model to understand which factors most influence water quality.\n",
    "    - Provide actionable insights based on model findings.\n",
    "    - Discuss potential interventions or policy recommendations to improve water quality."
   ]
  },
  {
   "cell_type": "markdown",
   "metadata": {},
   "source": [
    "**Data Access**\n",
    "\n",
    "Download data\n",
    "\n",
    "https://www.kaggle.com/datasets/mitanshuchakrawarty/water-quality-prediction/data?select=dataset.csv"
   ]
  },
  {
   "cell_type": "markdown",
   "metadata": {},
   "source": [
    "## **Import Neccessary Libraries**"
   ]
  },
  {
   "cell_type": "code",
   "execution_count": null,
   "metadata": {},
   "outputs": [],
   "source": [
    "# write your code"
   ]
  },
  {
   "cell_type": "markdown",
   "metadata": {},
   "source": [
    "## **Read Data**"
   ]
  },
  {
   "cell_type": "code",
   "execution_count": null,
   "metadata": {},
   "outputs": [],
   "source": [
    "# write your code"
   ]
  },
  {
   "cell_type": "markdown",
   "metadata": {},
   "source": [
    "## **Task 1: Data Cleaning and Preprocessing**\n"
   ]
  },
  {
   "cell_type": "code",
   "execution_count": null,
   "metadata": {},
   "outputs": [],
   "source": [
    "# write your code"
   ]
  },
  {
   "cell_type": "markdown",
   "metadata": {},
   "source": [
    "\n",
    "## **Task 2. Exploratory Data Analysis (EDA)**"
   ]
  },
  {
   "cell_type": "code",
   "execution_count": null,
   "metadata": {},
   "outputs": [],
   "source": [
    "# write your code"
   ]
  },
  {
   "cell_type": "markdown",
   "metadata": {},
   "source": [
    "\n",
    "## **Task 3. Feature Engineering**\n",
    "    \n"
   ]
  },
  {
   "cell_type": "code",
   "execution_count": null,
   "metadata": {},
   "outputs": [],
   "source": [
    "# write your code"
   ]
  },
  {
   "cell_type": "code",
   "execution_count": null,
   "metadata": {},
   "outputs": [],
   "source": [
    "# write your code"
   ]
  },
  {
   "cell_type": "markdown",
   "metadata": {},
   "source": [
    "\n",
    "## **Task 4. Model Building**\n",
    "#### 4.1 Split the data into training and testing sets.\n"
   ]
  },
  {
   "cell_type": "code",
   "execution_count": null,
   "metadata": {},
   "outputs": [],
   "source": [
    "# write your code"
   ]
  },
  {
   "cell_type": "markdown",
   "metadata": {},
   "source": [
    "#### 4.2 Train machine learning models to predict the target variable (water quality standard).\n"
   ]
  },
  {
   "cell_type": "code",
   "execution_count": null,
   "metadata": {},
   "outputs": [],
   "source": [
    "# write your code"
   ]
  },
  {
   "cell_type": "markdown",
   "metadata": {},
   "source": [
    "#### 4.3 Evaluate model performance using appropriate metrics (e.g., accuracy, precision, recall, F1-score).\n"
   ]
  },
  {
   "cell_type": "code",
   "execution_count": null,
   "metadata": {},
   "outputs": [],
   "source": [
    "# write your code"
   ]
  },
  {
   "cell_type": "markdown",
   "metadata": {},
   "source": [
    "\n",
    "## **Task 5. Model Interpretation and Insights**\n",
    "    - Interpret the model to understand which factors most influence water quality.\n",
    "    - Provide actionable insights based on model findings.\n",
    "    - Discuss potential interventions or policy recommendations to improve water quality.\n"
   ]
  }
 ],
 "metadata": {
  "kernelspec": {
   "display_name": "python12",
   "language": "python",
   "name": "python3"
  },
  "language_info": {
   "codemirror_mode": {
    "name": "ipython",
    "version": 3
   },
   "file_extension": ".py",
   "mimetype": "text/x-python",
   "name": "python",
   "nbconvert_exporter": "python",
   "pygments_lexer": "ipython3",
   "version": "3.12.2"
  }
 },
 "nbformat": 4,
 "nbformat_minor": 2
}
